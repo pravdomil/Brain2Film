{
  "nbformat": 4,
  "nbformat_minor": 0,
  "metadata": {
    "colab": {
      "private_outputs": true,
      "provenance": [],
      "gpuType": "A100"
    },
    "kernelspec": {
      "name": "python3",
      "display_name": "Python 3"
    },
    "language_info": {
      "name": "python"
    },
    "accelerator": "GPU"
  },
  "cells": [
    {
      "cell_type": "code",
      "execution_count": null,
      "metadata": {
        "id": "RFkakJ2NUcPI"
      },
      "outputs": [],
      "source": [
        "#@title Install\n",
        "%cd /content\n",
        "!git clone --depth 1 https://github.com/pravdomil/Brain2Film\n",
        "%cd /content/Brain2Film\n",
        "!git pull\n",
        "!pip install -r requirements.txt\n",
        "!nvidia-smi --query-gpu=name,memory.total,memory.free --format=csv,noheader\n",
        "print(\"Please restart runtime.\")"
      ]
    },
    {
      "cell_type": "code",
      "execution_count": null,
      "metadata": {
        "id": "tf5zDyD8sZjZ"
      },
      "outputs": [],
      "source": [
        "#@title Run\n",
        "%cd /content/Brain2Film/src\n",
        "import server\n",
        "server.main()"
      ]
    }
  ]
}