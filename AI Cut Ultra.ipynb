{
  "nbformat": 4,
  "nbformat_minor": 0,
  "metadata": {
    "colab": {
      "private_outputs": true,
      "provenance": [],
      "gpuType": "A100"
    },
    "kernelspec": {
      "name": "python3",
      "display_name": "Python 3"
    },
    "language_info": {
      "name": "python"
    },
    "accelerator": "GPU"
  },
  "cells": [
    {
      "cell_type": "code",
      "execution_count": null,
      "metadata": {
        "id": "RFkakJ2NUcPI"
      },
      "outputs": [],
      "source": [
        "# Install\n",
        "%cd /content\n",
        "!git clone --depth 1 https://github.com/pravdomil/AI-Cut-Ultra\n",
        "%cd /content/AI-Cut-Ultra\n",
        "!git pull\n",
        "%cd /content/AI-Cut-Ultra/server\n",
        "!pip install -r requirements.txt\n",
        "print(\"Please restart runtime.\")"
      ]
    },
    {
      "cell_type": "code",
      "execution_count": null,
      "metadata": {
        "id": "tf5zDyD8sZjZ"
      },
      "outputs": [],
      "source": [
        "# Run\n",
        "%cd /content/AI-Cut-Ultra/server\n",
        "!python ."
      ]
    }
  ]
}