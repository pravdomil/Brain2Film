{
  "nbformat": 4,
  "nbformat_minor": 0,
  "metadata": {
    "colab": {
      "private_outputs": true,
      "provenance": [],
      "gpuType": "A100"
    },
    "kernelspec": {
      "name": "python3",
      "display_name": "Python 3"
    },
    "language_info": {
      "name": "python"
    },
    "accelerator": "GPU"
  },
  "cells": [
    {
      "cell_type": "code",
      "execution_count": null,
      "metadata": {
        "id": "RFkakJ2NUcPI"
      },
      "outputs": [],
      "source": [
        "!git clone --depth 1 https://github.com/pravdomil/AI-Cut-Ultra\n",
        "%cd AI-Cut-Ultra/server\n",
        "!pip install -r requirements.txt\n",
        "!python ."
      ]
    }
  ]
}